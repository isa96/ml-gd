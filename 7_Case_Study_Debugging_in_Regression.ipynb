{
  "cells": [
    {
      "cell_type": "markdown",
      "metadata": {
        "id": "vrr7QBAu_oeC"
      },
      "source": [
        "#### Copyright 2018 Google LLC."
      ]
    },
    {
      "cell_type": "code",
      "execution_count": 1,
      "metadata": {
        "cellView": "both",
        "id": "hMqWDc_m6rUC"
      },
      "outputs": [],
      "source": [
        "# Licensed under the Apache License, Version 2.0 (the \"License\");\n",
        "# you may not use this file except in compliance with the License.\n",
        "# You may obtain a copy of the License at\n",
        "#\n",
        "# https://www.apache.org/licenses/LICENSE-2.0\n",
        "#\n",
        "# Unless required by applicable law or agreed to in writing, software\n",
        "# distributed under the License is distributed on an \"AS IS\" BASIS,\n",
        "# WITHOUT WARRANTIES OR CONDITIONS OF ANY KIND, either express or implied.\n",
        "# See the License for the specific language governing permissions and\n",
        "# limitations under the License."
      ]
    },
    {
      "cell_type": "markdown",
      "metadata": {
        "id": "iMDBCBXpyfjb"
      },
      "source": [
        "#  Case Study: Debugging in Regression\n",
        "\n",
        "In this Colab, you will learn how to debug a regression problem through a case study. You will:\n",
        "\n",
        "1. Set up the problem.\n",
        "2. Interpret the correlation matrix.\n",
        "3. Implement linear and nonlinear models.\n",
        "4. Compare and choose between linear and nonlinear models.\n",
        "5. Optimize your chosen model.\n",
        "6. Debug your chosen model.\n"
      ]
    },
    {
      "cell_type": "markdown",
      "metadata": {
        "id": "YO9VBlPg-gQi"
      },
      "source": [
        "# Setup\n",
        "\n",
        "This Colab uses the wine quality dataset<sup>[1]</sup>, which is hosted at [UCI](https://archive.ics.uci.edu/ml/datasets/wine+quality). This dataset contains data on the physicochemical properties of wine along with wine quality ratings. The problem is to predict wine quality (0-10) from physicochemical properties.\n",
        "\n",
        "Please **make a copy** of this Colab before running it. Click on *File*, and then click on *Save a copy in Drive*.\n",
        "\n",
        "<small>[1] Modeling wine preferences by data mining from physicochemical properties. P. Cortez, A. Cerdeira, F. Almeida, T. Matos and J. Reis. Decision Support Systems, Elsevier, 47(4):547-553, 2009.</small>"
      ]
    },
    {
      "cell_type": "markdown",
      "metadata": {
        "id": "TD2JCwZopqaP"
      },
      "source": [
        "Load libraries and data by running the next cell. Display the first few rows to verify that the dataset loaded correctly."
      ]
    },
    {
      "cell_type": "code",
      "execution_count": 2,
      "metadata": {
        "cellView": "both",
        "colab": {
          "base_uri": "https://localhost:8080/",
          "height": 255
        },
        "id": "1tdRTwl6sN9A",
        "outputId": "2fb4443c-15f0-479a-bce4-35671b9b5bc8"
      },
      "outputs": [
        {
          "data": {
            "text/html": [
              "<div>\n",
              "<style scoped>\n",
              "    .dataframe tbody tr th:only-of-type {\n",
              "        vertical-align: middle;\n",
              "    }\n",
              "\n",
              "    .dataframe tbody tr th {\n",
              "        vertical-align: top;\n",
              "    }\n",
              "\n",
              "    .dataframe thead th {\n",
              "        text-align: right;\n",
              "    }\n",
              "</style>\n",
              "<table border=\"1\" class=\"dataframe\">\n",
              "  <thead>\n",
              "    <tr style=\"text-align: right;\">\n",
              "      <th></th>\n",
              "      <th>fixed acidity</th>\n",
              "      <th>volatile acidity</th>\n",
              "      <th>citric acid</th>\n",
              "      <th>residual sugar</th>\n",
              "      <th>chlorides</th>\n",
              "      <th>free sulfur dioxide</th>\n",
              "      <th>total sulfur dioxide</th>\n",
              "      <th>density</th>\n",
              "      <th>pH</th>\n",
              "      <th>sulphates</th>\n",
              "      <th>alcohol</th>\n",
              "      <th>quality</th>\n",
              "    </tr>\n",
              "  </thead>\n",
              "  <tbody>\n",
              "    <tr>\n",
              "      <th>0</th>\n",
              "      <td>7.0</td>\n",
              "      <td>0.3</td>\n",
              "      <td>0.4</td>\n",
              "      <td>20.7</td>\n",
              "      <td>0.0</td>\n",
              "      <td>45.0</td>\n",
              "      <td>170.0</td>\n",
              "      <td>1.0</td>\n",
              "      <td>3.0</td>\n",
              "      <td>0.5</td>\n",
              "      <td>8.8</td>\n",
              "      <td>6</td>\n",
              "    </tr>\n",
              "    <tr>\n",
              "      <th>1</th>\n",
              "      <td>6.3</td>\n",
              "      <td>0.3</td>\n",
              "      <td>0.3</td>\n",
              "      <td>1.6</td>\n",
              "      <td>0.0</td>\n",
              "      <td>14.0</td>\n",
              "      <td>132.0</td>\n",
              "      <td>1.0</td>\n",
              "      <td>3.3</td>\n",
              "      <td>0.5</td>\n",
              "      <td>9.5</td>\n",
              "      <td>6</td>\n",
              "    </tr>\n",
              "    <tr>\n",
              "      <th>2</th>\n",
              "      <td>8.1</td>\n",
              "      <td>0.3</td>\n",
              "      <td>0.4</td>\n",
              "      <td>6.9</td>\n",
              "      <td>0.1</td>\n",
              "      <td>30.0</td>\n",
              "      <td>97.0</td>\n",
              "      <td>1.0</td>\n",
              "      <td>3.3</td>\n",
              "      <td>0.4</td>\n",
              "      <td>10.1</td>\n",
              "      <td>6</td>\n",
              "    </tr>\n",
              "    <tr>\n",
              "      <th>3</th>\n",
              "      <td>7.2</td>\n",
              "      <td>0.2</td>\n",
              "      <td>0.3</td>\n",
              "      <td>8.5</td>\n",
              "      <td>0.1</td>\n",
              "      <td>47.0</td>\n",
              "      <td>186.0</td>\n",
              "      <td>1.0</td>\n",
              "      <td>3.2</td>\n",
              "      <td>0.4</td>\n",
              "      <td>9.9</td>\n",
              "      <td>6</td>\n",
              "    </tr>\n",
              "    <tr>\n",
              "      <th>4</th>\n",
              "      <td>7.2</td>\n",
              "      <td>0.2</td>\n",
              "      <td>0.3</td>\n",
              "      <td>8.5</td>\n",
              "      <td>0.1</td>\n",
              "      <td>47.0</td>\n",
              "      <td>186.0</td>\n",
              "      <td>1.0</td>\n",
              "      <td>3.2</td>\n",
              "      <td>0.4</td>\n",
              "      <td>9.9</td>\n",
              "      <td>6</td>\n",
              "    </tr>\n",
              "  </tbody>\n",
              "</table>\n",
              "</div>"
            ],
            "text/plain": [
              "   fixed acidity  volatile acidity  citric acid  residual sugar  chlorides  \\\n",
              "0            7.0               0.3          0.4            20.7        0.0   \n",
              "1            6.3               0.3          0.3             1.6        0.0   \n",
              "2            8.1               0.3          0.4             6.9        0.1   \n",
              "3            7.2               0.2          0.3             8.5        0.1   \n",
              "4            7.2               0.2          0.3             8.5        0.1   \n",
              "\n",
              "   free sulfur dioxide  total sulfur dioxide  density  pH  sulphates  alcohol  \\\n",
              "0                 45.0                 170.0      1.0 3.0        0.5      8.8   \n",
              "1                 14.0                 132.0      1.0 3.3        0.5      9.5   \n",
              "2                 30.0                  97.0      1.0 3.3        0.4     10.1   \n",
              "3                 47.0                 186.0      1.0 3.2        0.4      9.9   \n",
              "4                 47.0                 186.0      1.0 3.2        0.4      9.9   \n",
              "\n",
              "   quality  \n",
              "0        6  \n",
              "1        6  \n",
              "2        6  \n",
              "3        6  \n",
              "4        6  "
            ]
          },
          "execution_count": 2,
          "metadata": {},
          "output_type": "execute_result"
        }
      ],
      "source": [
        "# Reset environment for a new run\n",
        "% reset -f\n",
        "\n",
        "# Load libraries\n",
        "from os.path import join # for joining file pathnames\n",
        "import pandas as pd\n",
        "import seaborn as sns\n",
        "import tensorflow as tf\n",
        "from tensorflow import keras\n",
        "import numpy as np\n",
        "import matplotlib.pyplot as plt\n",
        "\n",
        "# Set Pandas display options\n",
        "pd.options.display.max_rows = 10\n",
        "pd.options.display.float_format = '{:.1f}'.format\n",
        "\n",
        "wineDf = pd.read_csv(\n",
        "  \"https://download.mlcc.google.com/mledu-datasets/winequality.csv\",\n",
        "  encoding='latin-1')\n",
        "wineDf.columns = ['fixed acidity','volatile acidity','citric acid',\n",
        "                     'residual sugar','chlorides','free sulfur dioxide',\n",
        "                     'total sulfur dioxide','density','pH',\n",
        "                     'sulphates','alcohol','quality']\n",
        "wineDf.head()"
      ]
    },
    {
      "cell_type": "markdown",
      "metadata": {
        "id": "FKNBH65pM8q9"
      },
      "source": [
        "# Check Correlation Matrix"
      ]
    },
    {
      "cell_type": "markdown",
      "metadata": {
        "id": "6mfGqkcgSHYC"
      },
      "source": [
        "Before developing your ML model, you need to select features. To find informative features, check the correlation matrix by running the following cell. Which features are informative?"
      ]
    },
    {
      "cell_type": "code",
      "execution_count": 3,
      "metadata": {
        "colab": {
          "base_uri": "https://localhost:8080/",
          "height": 515
        },
        "id": "HX36srdIthHj",
        "outputId": "b569d0eb-a6c8-44e1-b0f4-d1ef31e1fcaa"
      },
      "outputs": [
        {
          "data": {
            "text/plain": [
              "<matplotlib.axes._subplots.AxesSubplot at 0x7fad8d1d5710>"
            ]
          },
          "execution_count": 3,
          "metadata": {},
          "output_type": "execute_result"
        },
        {
          "data": {
            "image/png": "[encoded data removed]",
            "text/plain": [
              "<Figure size 1152x720 with 2 Axes>"
            ]
          },
          "metadata": {
            "needs_background": "light"
          },
          "output_type": "display_data"
        }
      ],
      "source": [
        "corr_wineDf = wineDf.corr()\n",
        "plt.figure(figsize=(16,10))\n",
        "sns.heatmap(corr_wineDf, annot=True)"
      ]
    },
    {
      "cell_type": "markdown",
      "metadata": {
        "id": "DqM4CCQJ4d7N"
      },
      "source": [
        "`alcohol` is most highly correlated with `quality`. Looking for other informative features, notice that `volatile acidity` correlates with `quality` but not with `alcohol`, making it a good second feature. Remember that a correlation matrix is not helpful if predictive signals are encoded in combinations of features."
      ]
    },
    {
      "cell_type": "markdown",
      "metadata": {
        "id": "l6IsKBBard07"
      },
      "source": [
        "# Validate Input Data against Data Schema"
      ]
    },
    {
      "cell_type": "markdown",
      "metadata": {
        "id": "5QBbI6SBrg1k"
      },
      "source": [
        "Before processing your data, you should validate the data against a data schema as described in [Data and Feature Debugging](https://developers.google.com/machine-learning/testing-debugging/common/data-errors).\n",
        "\n",
        "First, define a function that validates data against a schema."
      ]
    },
    {
      "cell_type": "code",
      "execution_count": 4,
      "metadata": {
        "id": "NpLYlvpQsHoD"
      },
      "outputs": [],
      "source": [
        "#@title Define function to validate data\n",
        "\n",
        "def test_data_schema(input_data, schema):\n",
        "  \"\"\"Tests that the datatypes and ranges of values in the dataset\n",
        "    adhere to expectations.\n",
        "\n",
        "    Args:\n",
        "      input_function: Dataframe containing data to test\n",
        "      schema: Schema which describes the properties of the data.\n",
        "  \"\"\"\n",
        "\n",
        "  def test_dtypes():\n",
        "    for column in schema.keys():\n",
        "      assert input_data[column].map(type).eq(\n",
        "          schema[column]['dtype']).all(), (\n",
        "          \"Incorrect dtype in column '%s'.\" % column\n",
        "      )\n",
        "    print('Input dtypes are correct.')\n",
        "\n",
        "  def test_ranges():\n",
        "    for column in schema.keys():\n",
        "      schema_max = schema[column]['range']['max']\n",
        "      schema_min = schema[column]['range']['min']\n",
        "      # Assert that data falls between schema min and max.\n",
        "      assert input_data[column].max() <= schema_max, (\n",
        "          \"Maximum value of column '%s' is too low.\" % column\n",
        "      )\n",
        "      assert input_data[column].min() >= schema_min, (\n",
        "          \"Minimum value of column '%s' is too high.\" % column\n",
        "      )\n",
        "    print('Data falls within specified ranges.')\n",
        "\n",
        "  test_dtypes()\n",
        "  test_ranges()"
      ]
    },
    {
      "cell_type": "markdown",
      "metadata": {
        "id": "z6Frne4HTspm"
      },
      "source": [
        "To define your schema, you need to understand the statistical properties of your dataset. Generate statistics on your dataset by running the following code cell:"
      ]
    },
    {
      "cell_type": "code",
      "execution_count": 5,
      "metadata": {
        "colab": {
          "base_uri": "https://localhost:8080/",
          "height": 347
        },
        "id": "WT4dm-ALr-gD",
        "outputId": "8aeec168-a7b9-45f6-c4da-b1b9b6907204"
      },
      "outputs": [
        {
          "data": {
            "text/html": [
              "<div>\n",
              "<style scoped>\n",
              "    .dataframe tbody tr th:only-of-type {\n",
              "        vertical-align: middle;\n",
              "    }\n",
              "\n",
              "    .dataframe tbody tr th {\n",
              "        vertical-align: top;\n",
              "    }\n",
              "\n",
              "    .dataframe thead th {\n",
              "        text-align: right;\n",
              "    }\n",
              "</style>\n",
              "<table border=\"1\" class=\"dataframe\">\n",
              "  <thead>\n",
              "    <tr style=\"text-align: right;\">\n",
              "      <th></th>\n",
              "      <th>fixed acidity</th>\n",
              "      <th>volatile acidity</th>\n",
              "      <th>citric acid</th>\n",
              "      <th>residual sugar</th>\n",
              "      <th>chlorides</th>\n",
              "      <th>free sulfur dioxide</th>\n",
              "      <th>total sulfur dioxide</th>\n",
              "      <th>density</th>\n",
              "      <th>pH</th>\n",
              "      <th>sulphates</th>\n",
              "      <th>alcohol</th>\n",
              "      <th>quality</th>\n",
              "    </tr>\n",
              "  </thead>\n",
              "  <tbody>\n",
              "    <tr>\n",
              "      <th>count</th>\n",
              "      <td>6497.0</td>\n",
              "      <td>6497.0</td>\n",
              "      <td>6497.0</td>\n",
              "      <td>6497.0</td>\n",
              "      <td>6497.0</td>\n",
              "      <td>6497.0</td>\n",
              "      <td>6497.0</td>\n",
              "      <td>6497.0</td>\n",
              "      <td>6497.0</td>\n",
              "      <td>6497.0</td>\n",
              "      <td>6497.0</td>\n",
              "      <td>6497.0</td>\n",
              "    </tr>\n",
              "    <tr>\n",
              "      <th>mean</th>\n",
              "      <td>7.2</td>\n",
              "      <td>0.3</td>\n",
              "      <td>0.3</td>\n",
              "      <td>5.4</td>\n",
              "      <td>0.1</td>\n",
              "      <td>30.5</td>\n",
              "      <td>115.7</td>\n",
              "      <td>1.0</td>\n",
              "      <td>3.2</td>\n",
              "      <td>0.5</td>\n",
              "      <td>10.5</td>\n",
              "      <td>5.8</td>\n",
              "    </tr>\n",
              "    <tr>\n",
              "      <th>std</th>\n",
              "      <td>1.3</td>\n",
              "      <td>0.2</td>\n",
              "      <td>0.1</td>\n",
              "      <td>4.8</td>\n",
              "      <td>0.0</td>\n",
              "      <td>17.7</td>\n",
              "      <td>56.5</td>\n",
              "      <td>0.0</td>\n",
              "      <td>0.2</td>\n",
              "      <td>0.1</td>\n",
              "      <td>1.2</td>\n",
              "      <td>0.9</td>\n",
              "    </tr>\n",
              "    <tr>\n",
              "      <th>min</th>\n",
              "      <td>3.8</td>\n",
              "      <td>0.1</td>\n",
              "      <td>0.0</td>\n",
              "      <td>0.6</td>\n",
              "      <td>0.0</td>\n",
              "      <td>1.0</td>\n",
              "      <td>6.0</td>\n",
              "      <td>1.0</td>\n",
              "      <td>2.7</td>\n",
              "      <td>0.2</td>\n",
              "      <td>8.0</td>\n",
              "      <td>3.0</td>\n",
              "    </tr>\n",
              "    <tr>\n",
              "      <th>25%</th>\n",
              "      <td>6.4</td>\n",
              "      <td>0.2</td>\n",
              "      <td>0.2</td>\n",
              "      <td>1.8</td>\n",
              "      <td>0.0</td>\n",
              "      <td>17.0</td>\n",
              "      <td>77.0</td>\n",
              "      <td>1.0</td>\n",
              "      <td>3.1</td>\n",
              "      <td>0.4</td>\n",
              "      <td>9.5</td>\n",
              "      <td>5.0</td>\n",
              "    </tr>\n",
              "    <tr>\n",
              "      <th>50%</th>\n",
              "      <td>7.0</td>\n",
              "      <td>0.3</td>\n",
              "      <td>0.3</td>\n",
              "      <td>3.0</td>\n",
              "      <td>0.0</td>\n",
              "      <td>29.0</td>\n",
              "      <td>118.0</td>\n",
              "      <td>1.0</td>\n",
              "      <td>3.2</td>\n",
              "      <td>0.5</td>\n",
              "      <td>10.3</td>\n",
              "      <td>6.0</td>\n",
              "    </tr>\n",
              "    <tr>\n",
              "      <th>75%</th>\n",
              "      <td>7.7</td>\n",
              "      <td>0.4</td>\n",
              "      <td>0.4</td>\n",
              "      <td>8.1</td>\n",
              "      <td>0.1</td>\n",
              "      <td>41.0</td>\n",
              "      <td>156.0</td>\n",
              "      <td>1.0</td>\n",
              "      <td>3.3</td>\n",
              "      <td>0.6</td>\n",
              "      <td>11.3</td>\n",
              "      <td>6.0</td>\n",
              "    </tr>\n",
              "    <tr>\n",
              "      <th>max</th>\n",
              "      <td>15.9</td>\n",
              "      <td>1.6</td>\n",
              "      <td>1.7</td>\n",
              "      <td>65.8</td>\n",
              "      <td>0.6</td>\n",
              "      <td>289.0</td>\n",
              "      <td>440.0</td>\n",
              "      <td>1.0</td>\n",
              "      <td>4.0</td>\n",
              "      <td>2.0</td>\n",
              "      <td>14.9</td>\n",
              "      <td>9.0</td>\n",
              "    </tr>\n",
              "  </tbody>\n",
              "</table>\n",
              "</div>"
            ],
            "text/plain": [
              "       fixed acidity  volatile acidity  citric acid  residual sugar  \\\n",
              "count         6497.0            6497.0       6497.0          6497.0   \n",
              "mean             7.2               0.3          0.3             5.4   \n",
              "std              1.3               0.2          0.1             4.8   \n",
              "min              3.8               0.1          0.0             0.6   \n",
              "25%              6.4               0.2          0.2             1.8   \n",
              "50%              7.0               0.3          0.3             3.0   \n",
              "75%              7.7               0.4          0.4             8.1   \n",
              "max             15.9               1.6          1.7            65.8   \n",
              "\n",
              "       chlorides  free sulfur dioxide  total sulfur dioxide  density     pH  \\\n",
              "count     6497.0               6497.0                6497.0   6497.0 6497.0   \n",
              "mean         0.1                 30.5                 115.7      1.0    3.2   \n",
              "std          0.0                 17.7                  56.5      0.0    0.2   \n",
              "min          0.0                  1.0                   6.0      1.0    2.7   \n",
              "25%          0.0                 17.0                  77.0      1.0    3.1   \n",
              "50%          0.0                 29.0                 118.0      1.0    3.2   \n",
              "75%          0.1                 41.0                 156.0      1.0    3.3   \n",
              "max          0.6                289.0                 440.0      1.0    4.0   \n",
              "\n",
              "       sulphates  alcohol  quality  \n",
              "count     6497.0   6497.0   6497.0  \n",
              "mean         0.5     10.5      5.8  \n",
              "std          0.1      1.2      0.9  \n",
              "min          0.2      8.0      3.0  \n",
              "25%          0.4      9.5      5.0  \n",
              "50%          0.5     10.3      6.0  \n",
              "75%          0.6     11.3      6.0  \n",
              "max          2.0     14.9      9.0  "
            ]
          },
          "execution_count": 5,
          "metadata": {},
          "output_type": "execute_result"
        }
      ],
      "source": [
        "wineDf.describe()"
      ]
    },
    {
      "cell_type": "markdown",
      "metadata": {
        "id": "6rSPgXENscc8"
      },
      "source": [
        "Using the statistics generated above, define the data schema in the following code cell. For demonstration purposes, restrict your data schema to the first three data columns. For each data column, enter the:\n",
        "\n",
        " * minimum value\n",
        " * maximum value\n",
        " * data type\n",
        "\n",
        "As an example, the values for the first column are filled out. After entering the values, run the code cell to confirm that your input data matches the schema."
      ]
    },
    {
      "cell_type": "code",
      "execution_count": 9,
      "metadata": {
        "colab": {
          "base_uri": "https://localhost:8080/"
        },
        "id": "YQ5CUFlsshm8",
        "outputId": "48c4f2f3-29d2-4de2-8beb-06e697e2852d"
      },
      "outputs": [
        {
          "name": "stdout",
          "output_type": "stream",
          "text": [
            "Validating wine data against data schema...\n",
            "Input dtypes are correct.\n",
            "Data falls within specified ranges.\n"
          ]
        }
      ],
      "source": [
        "wine_schema = {\n",
        "    'fixed acidity': {\n",
        "        'range': {\n",
        "            'min': 3.8,\n",
        "            'max': 15.9\n",
        "        },\n",
        "        'dtype': float,\n",
        "    },\n",
        "    'volatile acidity': {\n",
        "        'range': {\n",
        "            'min': 0.08, # describe() rounds up this value, be careful\n",
        "            'max': 1.6,\n",
        "        },\n",
        "        'dtype': float,\n",
        "    },\n",
        "    'citric acid': {\n",
        "        'range': {\n",
        "            'min': 0.0,\n",
        "            'max': 1.7,\n",
        "        },\n",
        "        'dtype': float,\n",
        "    }\n",
        "}\n",
        "\n",
        "print('Validating wine data against data schema...')\n",
        "test_data_schema(wineDf, wine_schema)"
      ]
    },
    {
      "cell_type": "markdown",
      "metadata": {
        "id": "fko5u9Y3hiKW"
      },
      "source": [
        "## Solution"
      ]
    },
    {
      "cell_type": "code",
      "execution_count": 8,
      "metadata": {
        "colab": {
          "base_uri": "https://localhost:8080/"
        },
        "id": "L_fiqb-whjWu",
        "outputId": "391964c3-317f-487e-8801-5627cdc31f35"
      },
      "outputs": [
        {
          "name": "stdout",
          "output_type": "stream",
          "text": [
            "Validating wine data against data schema...\n",
            "Input dtypes are correct.\n",
            "Data falls within specified ranges.\n"
          ]
        }
      ],
      "source": [
        "wine_schema = {\n",
        "    'fixed acidity': {\n",
        "        'range': {\n",
        "            'min': 3.7,\n",
        "            'max': 15.9\n",
        "        },\n",
        "        'dtype': float,\n",
        "    },\n",
        "    'volatile acidity': {\n",
        "        'range': {\n",
        "            'min': 0.08,  # minimum value\n",
        "            'max': 1.6   # maximum value\n",
        "        },\n",
        "        'dtype': float,    # data type\n",
        "    },\n",
        "    'citric acid': {\n",
        "        'range': {\n",
        "            'min': 0.0, # minimum value\n",
        "            'max': 1.7  # maximum value\n",
        "        },\n",
        "        'dtype': float,   # data type\n",
        "    }\n",
        "}\n",
        "\n",
        "print('Validating wine data against data schema...')\n",
        "test_data_schema(wineDf, wine_schema)"
      ]
    },
    {
      "cell_type": "markdown",
      "metadata": {
        "id": "Ks-c6qeRNDbN"
      },
      "source": [
        "# Split and Normalize Data"
      ]
    },
    {
      "cell_type": "markdown",
      "metadata": {
        "id": "iqz_CWW-1nuC"
      },
      "source": [
        "Split the dataset into data and labels."
      ]
    },
    {
      "cell_type": "code",
      "execution_count": 10,
      "metadata": {
        "id": "BstIdTwr2A8J"
      },
      "outputs": [],
      "source": [
        "wineFeatures = wineDf.copy(deep=True)\n",
        "wineFeatures.drop(columns='quality',inplace=True)\n",
        "wineLabels = wineDf['quality'].copy(deep=True)"
      ]
    },
    {
      "cell_type": "markdown",
      "metadata": {
        "id": "zV8hRjJHNJcd"
      },
      "source": [
        "Normalize data using z-score."
      ]
    },
    {
      "cell_type": "code",
      "execution_count": 11,
      "metadata": {
        "id": "8eWEEY2N8jvM"
      },
      "outputs": [],
      "source": [
        "def normalizeData(arr):\n",
        "  stdArr = np.std(arr)\n",
        "  meanArr = np.mean(arr)\n",
        "  arr = (arr-meanArr)/stdArr\n",
        "  return arr\n",
        "\n",
        "for str1 in wineFeatures.columns:\n",
        "   wineFeatures[str1] = normalizeData(wineFeatures[str1])"
      ]
    },
    {
      "cell_type": "markdown",
      "metadata": {
        "id": "FRYctLRsxoKQ"
      },
      "source": [
        "# Test Engineered Data"
      ]
    },
    {
      "cell_type": "markdown",
      "metadata": {
        "id": "O9FmtMP7xyfW"
      },
      "source": [
        "After normalizing your data, you should test your engineered data for errors as described in [Data and Feature Debugging](https://developers.google.com/machine-learning/testing-debugging/common/data-errors). In this section, you will test that engineering data:\n",
        "\n",
        "* Has the expected number of rows and columns.\n",
        "* Does not have null values.\n",
        "\n",
        "First, set up the testing functions by running the following code cell:\n"
      ]
    },
    {
      "cell_type": "code",
      "execution_count": 12,
      "metadata": {
        "cellView": "both",
        "id": "OCkV2ti1ygqe"
      },
      "outputs": [],
      "source": [
        "import unittest\n",
        "\n",
        "def test_input_dim(df, n_rows, n_columns):\n",
        "  assert len(df) == n_rows, \"Unexpected number of rows.\"\n",
        "  assert len(df.columns) == n_columns, \"Unexpected number of columns.\"\n",
        "  print('Engineered data has the expected number of rows and columns.')\n",
        "\n",
        "def test_nulls(df):\n",
        "  dataNulls = df.isnull().sum().sum()\n",
        "  assert dataNulls == 0, \"Nulls in engineered data.\"\n",
        "  print('Engineered features do not contain nulls.')"
      ]
    },
    {
      "cell_type": "markdown",
      "metadata": {
        "id": "TrCc2NAE4J5A"
      },
      "source": [
        "Your input data had 6497 examples and 11 feature columns. Test whether your engineered data has the expected number of rows and columns by running the following cell. Confirm that the test fails if you change the values below."
      ]
    },
    {
      "cell_type": "code",
      "execution_count": 13,
      "metadata": {
        "cellView": "form",
        "colab": {
          "base_uri": "https://localhost:8080/"
        },
        "id": "97BqVwqx4JKQ",
        "outputId": "7fedfc2a-6b4d-4c69-c27d-a2df0ab8bd8d"
      },
      "outputs": [
        {
          "name": "stdout",
          "output_type": "stream",
          "text": [
            "Engineered data has the expected number of rows and columns.\n"
          ]
        }
      ],
      "source": [
        "#@title Test dimensions of engineered data\n",
        "wine_feature_rows = 6497 #@param\n",
        "wine_feature_cols = 11 #@param\n",
        "test_input_dim(wineFeatures,\n",
        "               wine_feature_rows,\n",
        "               wine_feature_cols)"
      ]
    },
    {
      "cell_type": "markdown",
      "metadata": {
        "id": "Gb7CxKrN5PDq"
      },
      "source": [
        "Test that your engineered data does not contain nulls by running the code below."
      ]
    },
    {
      "cell_type": "code",
      "execution_count": 14,
      "metadata": {
        "colab": {
          "base_uri": "https://localhost:8080/"
        },
        "id": "Gg3krAmq4aBf",
        "outputId": "37c058d0-f828-45ed-90a3-c22ce3bf84b9"
      },
      "outputs": [
        {
          "name": "stdout",
          "output_type": "stream",
          "text": [
            "Engineered features do not contain nulls.\n"
          ]
        }
      ],
      "source": [
        "test_nulls(wineFeatures)"
      ]
    },
    {
      "cell_type": "markdown",
      "metadata": {
        "id": "eaU8hlK-rzbc"
      },
      "source": [
        "# Check Splits for Statistical Equivalence\n",
        "\n",
        "As described in the [Data Debugging](https://developers.google.com/machine-learning/testing-debugging/common/data-errors) guidelines, before developing your model, you should check that your training and validation splits are equally representative. Assuming a training:validation split of 80:20, compare the mean and the standard deviation of the splits by running the next two code cells. Note that this comparison is not a rigorous test for statistical equivalence but simply a quick and dirty comparison of the splits."
      ]
    },
    {
      "cell_type": "code",
      "execution_count": 15,
      "metadata": {
        "colab": {
          "base_uri": "https://localhost:8080/",
          "height": 347
        },
        "id": "GBeiaCDUshkS",
        "outputId": "953767e6-a59c-4609-f648-1a64fad028c9"
      },
      "outputs": [
        {
          "data": {
            "text/html": [
              "<div>\n",
              "<style scoped>\n",
              "    .dataframe tbody tr th:only-of-type {\n",
              "        vertical-align: middle;\n",
              "    }\n",
              "\n",
              "    .dataframe tbody tr th {\n",
              "        vertical-align: top;\n",
              "    }\n",
              "\n",
              "    .dataframe thead th {\n",
              "        text-align: right;\n",
              "    }\n",
              "</style>\n",
              "<table border=\"1\" class=\"dataframe\">\n",
              "  <thead>\n",
              "    <tr style=\"text-align: right;\">\n",
              "      <th></th>\n",
              "      <th>fixed acidity</th>\n",
              "      <th>volatile acidity</th>\n",
              "      <th>citric acid</th>\n",
              "      <th>residual sugar</th>\n",
              "      <th>chlorides</th>\n",
              "      <th>free sulfur dioxide</th>\n",
              "      <th>total sulfur dioxide</th>\n",
              "      <th>density</th>\n",
              "      <th>pH</th>\n",
              "      <th>sulphates</th>\n",
              "      <th>alcohol</th>\n",
              "    </tr>\n",
              "  </thead>\n",
              "  <tbody>\n",
              "    <tr>\n",
              "      <th>count</th>\n",
              "      <td>5197.0</td>\n",
              "      <td>5197.0</td>\n",
              "      <td>5197.0</td>\n",
              "      <td>5197.0</td>\n",
              "      <td>5197.0</td>\n",
              "      <td>5197.0</td>\n",
              "      <td>5197.0</td>\n",
              "      <td>5197.0</td>\n",
              "      <td>5197.0</td>\n",
              "      <td>5197.0</td>\n",
              "      <td>5197.0</td>\n",
              "    </tr>\n",
              "    <tr>\n",
              "      <th>mean</th>\n",
              "      <td>-0.2</td>\n",
              "      <td>-0.3</td>\n",
              "      <td>0.1</td>\n",
              "      <td>0.2</td>\n",
              "      <td>-0.2</td>\n",
              "      <td>0.2</td>\n",
              "      <td>0.3</td>\n",
              "      <td>-0.2</td>\n",
              "      <td>-0.1</td>\n",
              "      <td>-0.2</td>\n",
              "      <td>-0.0</td>\n",
              "    </tr>\n",
              "    <tr>\n",
              "      <th>std</th>\n",
              "      <td>0.7</td>\n",
              "      <td>0.8</td>\n",
              "      <td>0.9</td>\n",
              "      <td>1.1</td>\n",
              "      <td>0.9</td>\n",
              "      <td>1.0</td>\n",
              "      <td>0.8</td>\n",
              "      <td>1.0</td>\n",
              "      <td>1.0</td>\n",
              "      <td>0.9</td>\n",
              "      <td>1.0</td>\n",
              "    </tr>\n",
              "    <tr>\n",
              "      <th>min</th>\n",
              "      <td>-2.6</td>\n",
              "      <td>-1.6</td>\n",
              "      <td>-2.2</td>\n",
              "      <td>-1.0</td>\n",
              "      <td>-1.3</td>\n",
              "      <td>-1.6</td>\n",
              "      <td>-1.9</td>\n",
              "      <td>-2.5</td>\n",
              "      <td>-3.1</td>\n",
              "      <td>-2.1</td>\n",
              "      <td>-2.1</td>\n",
              "    </tr>\n",
              "    <tr>\n",
              "      <th>25%</th>\n",
              "      <td>-0.7</td>\n",
              "      <td>-0.8</td>\n",
              "      <td>-0.4</td>\n",
              "      <td>-0.8</td>\n",
              "      <td>-0.6</td>\n",
              "      <td>-0.5</td>\n",
              "      <td>-0.2</td>\n",
              "      <td>-1.0</td>\n",
              "      <td>-0.8</td>\n",
              "      <td>-0.8</td>\n",
              "      <td>-0.9</td>\n",
              "    </tr>\n",
              "    <tr>\n",
              "      <th>50%</th>\n",
              "      <td>-0.3</td>\n",
              "      <td>-0.4</td>\n",
              "      <td>-0.1</td>\n",
              "      <td>-0.1</td>\n",
              "      <td>-0.3</td>\n",
              "      <td>0.1</td>\n",
              "      <td>0.3</td>\n",
              "      <td>-0.2</td>\n",
              "      <td>-0.2</td>\n",
              "      <td>-0.3</td>\n",
              "      <td>-0.2</td>\n",
              "    </tr>\n",
              "    <tr>\n",
              "      <th>75%</th>\n",
              "      <td>0.1</td>\n",
              "      <td>0.0</td>\n",
              "      <td>0.5</td>\n",
              "      <td>0.9</td>\n",
              "      <td>-0.1</td>\n",
              "      <td>0.8</td>\n",
              "      <td>0.9</td>\n",
              "      <td>0.6</td>\n",
              "      <td>0.4</td>\n",
              "      <td>0.2</td>\n",
              "      <td>0.7</td>\n",
              "    </tr>\n",
              "    <tr>\n",
              "      <th>max</th>\n",
              "      <td>6.0</td>\n",
              "      <td>6.0</td>\n",
              "      <td>9.2</td>\n",
              "      <td>12.7</td>\n",
              "      <td>15.8</td>\n",
              "      <td>14.6</td>\n",
              "      <td>5.7</td>\n",
              "      <td>14.8</td>\n",
              "      <td>4.2</td>\n",
              "      <td>9.9</td>\n",
              "      <td>3.1</td>\n",
              "    </tr>\n",
              "  </tbody>\n",
              "</table>\n",
              "</div>"
            ],
            "text/plain": [
              "       fixed acidity  volatile acidity  citric acid  residual sugar  \\\n",
              "count         5197.0            5197.0       5197.0          5197.0   \n",
              "mean            -0.2              -0.3          0.1             0.2   \n",
              "std              0.7               0.8          0.9             1.1   \n",
              "min             -2.6              -1.6         -2.2            -1.0   \n",
              "25%             -0.7              -0.8         -0.4            -0.8   \n",
              "50%             -0.3              -0.4         -0.1            -0.1   \n",
              "75%              0.1               0.0          0.5             0.9   \n",
              "max              6.0               6.0          9.2            12.7   \n",
              "\n",
              "       chlorides  free sulfur dioxide  total sulfur dioxide  density     pH  \\\n",
              "count     5197.0               5197.0                5197.0   5197.0 5197.0   \n",
              "mean        -0.2                  0.2                   0.3     -0.2   -0.1   \n",
              "std          0.9                  1.0                   0.8      1.0    1.0   \n",
              "min         -1.3                 -1.6                  -1.9     -2.5   -3.1   \n",
              "25%         -0.6                 -0.5                  -0.2     -1.0   -0.8   \n",
              "50%         -0.3                  0.1                   0.3     -0.2   -0.2   \n",
              "75%         -0.1                  0.8                   0.9      0.6    0.4   \n",
              "max         15.8                 14.6                   5.7     14.8    4.2   \n",
              "\n",
              "       sulphates  alcohol  \n",
              "count     5197.0   5197.0  \n",
              "mean        -0.2     -0.0  \n",
              "std          0.9      1.0  \n",
              "min         -2.1     -2.1  \n",
              "25%         -0.8     -0.9  \n",
              "50%         -0.3     -0.2  \n",
              "75%          0.2      0.7  \n",
              "max          9.9      3.1  "
            ]
          },
          "execution_count": 15,
          "metadata": {},
          "output_type": "execute_result"
        }
      ],
      "source": [
        "splitIdx = wineFeatures.shape[0]*8/10\n",
        "wineFeatures.iloc[0:splitIdx,:].describe()"
      ]
    },
    {
      "cell_type": "code",
      "execution_count": 16,
      "metadata": {
        "colab": {
          "base_uri": "https://localhost:8080/",
          "height": 347
        },
        "id": "BvG69ze-uS2g",
        "outputId": "23ab4048-e2b2-4265-e152-02284c422da0"
      },
      "outputs": [
        {
          "data": {
            "text/html": [
              "<div>\n",
              "<style scoped>\n",
              "    .dataframe tbody tr th:only-of-type {\n",
              "        vertical-align: middle;\n",
              "    }\n",
              "\n",
              "    .dataframe tbody tr th {\n",
              "        vertical-align: top;\n",
              "    }\n",
              "\n",
              "    .dataframe thead th {\n",
              "        text-align: right;\n",
              "    }\n",
              "</style>\n",
              "<table border=\"1\" class=\"dataframe\">\n",
              "  <thead>\n",
              "    <tr style=\"text-align: right;\">\n",
              "      <th></th>\n",
              "      <th>fixed acidity</th>\n",
              "      <th>volatile acidity</th>\n",
              "      <th>citric acid</th>\n",
              "      <th>residual sugar</th>\n",
              "      <th>chlorides</th>\n",
              "      <th>free sulfur dioxide</th>\n",
              "      <th>total sulfur dioxide</th>\n",
              "      <th>density</th>\n",
              "      <th>pH</th>\n",
              "      <th>sulphates</th>\n",
              "      <th>alcohol</th>\n",
              "    </tr>\n",
              "  </thead>\n",
              "  <tbody>\n",
              "    <tr>\n",
              "      <th>count</th>\n",
              "      <td>1299.0</td>\n",
              "      <td>1299.0</td>\n",
              "      <td>1299.0</td>\n",
              "      <td>1299.0</td>\n",
              "      <td>1299.0</td>\n",
              "      <td>1299.0</td>\n",
              "      <td>1299.0</td>\n",
              "      <td>1299.0</td>\n",
              "      <td>1299.0</td>\n",
              "      <td>1299.0</td>\n",
              "      <td>1299.0</td>\n",
              "    </tr>\n",
              "    <tr>\n",
              "      <th>mean</th>\n",
              "      <td>0.9</td>\n",
              "      <td>1.1</td>\n",
              "      <td>-0.3</td>\n",
              "      <td>-0.6</td>\n",
              "      <td>0.8</td>\n",
              "      <td>-0.8</td>\n",
              "      <td>-1.3</td>\n",
              "      <td>0.7</td>\n",
              "      <td>0.6</td>\n",
              "      <td>0.8</td>\n",
              "      <td>0.0</td>\n",
              "    </tr>\n",
              "    <tr>\n",
              "      <th>std</th>\n",
              "      <td>1.4</td>\n",
              "      <td>1.1</td>\n",
              "      <td>1.3</td>\n",
              "      <td>0.3</td>\n",
              "      <td>1.1</td>\n",
              "      <td>0.6</td>\n",
              "      <td>0.6</td>\n",
              "      <td>0.7</td>\n",
              "      <td>1.0</td>\n",
              "      <td>1.0</td>\n",
              "      <td>0.9</td>\n",
              "    </tr>\n",
              "    <tr>\n",
              "      <th>min</th>\n",
              "      <td>-1.8</td>\n",
              "      <td>-1.3</td>\n",
              "      <td>-2.2</td>\n",
              "      <td>-1.0</td>\n",
              "      <td>-1.3</td>\n",
              "      <td>-1.7</td>\n",
              "      <td>-1.9</td>\n",
              "      <td>-1.5</td>\n",
              "      <td>-2.2</td>\n",
              "      <td>-1.1</td>\n",
              "      <td>-1.8</td>\n",
              "    </tr>\n",
              "    <tr>\n",
              "      <th>25%</th>\n",
              "      <td>-0.1</td>\n",
              "      <td>0.3</td>\n",
              "      <td>-1.5</td>\n",
              "      <td>-0.7</td>\n",
              "      <td>0.4</td>\n",
              "      <td>-1.3</td>\n",
              "      <td>-1.7</td>\n",
              "      <td>0.3</td>\n",
              "      <td>-0.1</td>\n",
              "      <td>0.1</td>\n",
              "      <td>-0.7</td>\n",
              "    </tr>\n",
              "    <tr>\n",
              "      <th>50%</th>\n",
              "      <td>0.6</td>\n",
              "      <td>1.0</td>\n",
              "      <td>-0.3</td>\n",
              "      <td>-0.7</td>\n",
              "      <td>0.7</td>\n",
              "      <td>-0.9</td>\n",
              "      <td>-1.4</td>\n",
              "      <td>0.7</td>\n",
              "      <td>0.5</td>\n",
              "      <td>0.6</td>\n",
              "      <td>-0.1</td>\n",
              "    </tr>\n",
              "    <tr>\n",
              "      <th>75%</th>\n",
              "      <td>1.7</td>\n",
              "      <td>1.8</td>\n",
              "      <td>0.8</td>\n",
              "      <td>-0.6</td>\n",
              "      <td>1.0</td>\n",
              "      <td>-0.5</td>\n",
              "      <td>-1.0</td>\n",
              "      <td>1.1</td>\n",
              "      <td>1.1</td>\n",
              "      <td>1.3</td>\n",
              "      <td>0.7</td>\n",
              "    </tr>\n",
              "    <tr>\n",
              "      <th>max</th>\n",
              "      <td>6.7</td>\n",
              "      <td>7.5</td>\n",
              "      <td>3.2</td>\n",
              "      <td>2.1</td>\n",
              "      <td>10.4</td>\n",
              "      <td>2.3</td>\n",
              "      <td>3.1</td>\n",
              "      <td>3.0</td>\n",
              "      <td>4.9</td>\n",
              "      <td>7.3</td>\n",
              "      <td>3.7</td>\n",
              "    </tr>\n",
              "  </tbody>\n",
              "</table>\n",
              "</div>"
            ],
            "text/plain": [
              "       fixed acidity  volatile acidity  citric acid  residual sugar  \\\n",
              "count         1299.0            1299.0       1299.0          1299.0   \n",
              "mean             0.9               1.1         -0.3            -0.6   \n",
              "std              1.4               1.1          1.3             0.3   \n",
              "min             -1.8              -1.3         -2.2            -1.0   \n",
              "25%             -0.1               0.3         -1.5            -0.7   \n",
              "50%              0.6               1.0         -0.3            -0.7   \n",
              "75%              1.7               1.8          0.8            -0.6   \n",
              "max              6.7               7.5          3.2             2.1   \n",
              "\n",
              "       chlorides  free sulfur dioxide  total sulfur dioxide  density     pH  \\\n",
              "count     1299.0               1299.0                1299.0   1299.0 1299.0   \n",
              "mean         0.8                 -0.8                  -1.3      0.7    0.6   \n",
              "std          1.1                  0.6                   0.6      0.7    1.0   \n",
              "min         -1.3                 -1.7                  -1.9     -1.5   -2.2   \n",
              "25%          0.4                 -1.3                  -1.7      0.3   -0.1   \n",
              "50%          0.7                 -0.9                  -1.4      0.7    0.5   \n",
              "75%          1.0                 -0.5                  -1.0      1.1    1.1   \n",
              "max         10.4                  2.3                   3.1      3.0    4.9   \n",
              "\n",
              "       sulphates  alcohol  \n",
              "count     1299.0   1299.0  \n",
              "mean         0.8      0.0  \n",
              "std          1.0      0.9  \n",
              "min         -1.1     -1.8  \n",
              "25%          0.1     -0.7  \n",
              "50%          0.6     -0.1  \n",
              "75%          1.3      0.7  \n",
              "max          7.3      3.7  "
            ]
          },
          "execution_count": 16,
          "metadata": {},
          "output_type": "execute_result"
        }
      ],
      "source": [
        "wineFeatures.iloc[splitIdx:-1,:].describe()"
      ]
    },
    {
      "cell_type": "markdown",
      "metadata": {
        "id": "ETUVOTizsgUa"
      },
      "source": [
        "The two splits are clearly not equally representative. To make the splits equally representative, you can shuffle the data.\n",
        "\n",
        "Run the following code cell to shuffle the data, and then recreate the features and labels from the shuffled data."
      ]
    },
    {
      "cell_type": "code",
      "execution_count": 17,
      "metadata": {
        "id": "l6G6xnJdu3CF"
      },
      "outputs": [],
      "source": [
        "# Shuffle data\n",
        "wineDf = wineDf.sample(frac=1).reset_index(drop=True)\n",
        "# Recreate features and labels\n",
        "wineFeatures = wineDf.copy(deep=True)\n",
        "wineFeatures.drop(columns='quality',inplace=True)\n",
        "wineLabels = wineDf['quality'].copy(deep=True)"
      ]
    },
    {
      "cell_type": "markdown",
      "metadata": {
        "id": "-BbK2JuTvYZw"
      },
      "source": [
        "Now, confirm that the splits are equally representative by regenerating and comparing the statistics using the previous code cells. You may wonder why the initial splits differed so greatly. It turns out that in the wine dataset, the first 4897 rows contain data on white wines and the next 1599 rows contain data on red wines. When you split your dataset 80:20, then your training dataset contains 5197 examples, which is 94% white wine. The validation dataset is purely red wine. \n",
        "\n",
        "Ensuring your splits are statistically equivalent is a good development practice. In general, following good development practices will simplify your model debugging. To learn about testing for statistical equivalence, see [Equivalence Tests Lakens, D.](https://journals.sagepub.com/doi/10.1177/1948550617697177)."
      ]
    },
    {
      "cell_type": "markdown",
      "metadata": {
        "id": "TH7y19etJQyd"
      },
      "source": [
        "# Establish a Baseline"
      ]
    },
    {
      "cell_type": "markdown",
      "metadata": {
        "id": "zj7hlj7yJSU2"
      },
      "source": [
        "For a regression problem, the simplest baseline to predict the average value. Run the following code to calculate the mean-squared error (MSE) loss on the training split using the average value as a baseline. Your loss is approximately 0.75. Any model should beat this loss to justify its use."
      ]
    },
    {
      "cell_type": "code",
      "execution_count": 18,
      "metadata": {
        "colab": {
          "base_uri": "https://localhost:8080/"
        },
        "id": "ryhxiL7qJak8",
        "outputId": "474208d6-7b20-41a8-b776-4af214bd5f44"
      },
      "outputs": [
        {
          "name": "stdout",
          "output_type": "stream",
          "text": [
            "0.7599125899998034\n"
          ]
        }
      ],
      "source": [
        "baselineMSE = np.square(wineLabels[0:splitIdx]-np.mean(wineLabels[0:splitIdx]))\n",
        "baselineMSE = np.sum(baselineMSE)/len(baselineMSE)\n",
        "print(baselineMSE)"
      ]
    },
    {
      "cell_type": "markdown",
      "metadata": {
        "id": "vjRt-zgo5a1G"
      },
      "source": [
        "# Linear Model\n",
        "\n",
        "Following good ML dev practice, let's start with a linear model that uses the most informative feature from the correlation matrix: `alcohol`. Even if this model performs badly, we can still use it as a baseline. This model should beat our previous baseline's MSE of 0.75."
      ]
    },
    {
      "cell_type": "markdown",
      "metadata": {
        "id": "X1REI7glC8GA"
      },
      "source": [
        "First, let's define a function to plot our loss and accuracy curves. The function will also print the final loss and accuracy. Instead of using `verbose=1`, you can call the function."
      ]
    },
    {
      "cell_type": "code",
      "execution_count": 19,
      "metadata": {
        "id": "l-qlE8TCC8j3"
      },
      "outputs": [],
      "source": [
        "def showRegressionResults(trainHistory):\n",
        "  \"\"\"Function to:\n",
        "   * Print final loss.\n",
        "   * Plot loss curves.\n",
        "  \n",
        "  Args:\n",
        "    trainHistory: object returned by model.fit\n",
        "  \"\"\"\n",
        "  \n",
        "  # Print final loss\n",
        "  print(\"Final training loss: \" + str(trainHistory.history['loss'][-1]))\n",
        "  print(\"Final Validation loss: \" + str(trainHistory.history['val_loss'][-1]))\n",
        "  \n",
        "  # Plot loss curves\n",
        "  plt.plot(trainHistory.history['loss'])\n",
        "  plt.plot(trainHistory.history['val_loss'])\n",
        "  plt.legend(['Training loss','Validation loss'],loc='best')\n",
        "  plt.title('Loss Curves')"
      ]
    },
    {
      "cell_type": "markdown",
      "metadata": {
        "id": "gSZZjpYnDLiP"
      },
      "source": [
        "For fast prototyping, let's try using a full batch per epoch to update the gradient only once per  epoch. Use the full batch by setting `batch_size = wineFeatures.shape[0]` as indicated by the code comment.\n",
        "\n",
        "What do you think of the loss curve? Can you improve it? For hints and discussion, see the following text cells."
      ]
    },
    {
      "cell_type": "code",
      "execution_count": 22,
      "metadata": {
        "colab": {
          "base_uri": "https://localhost:8080/",
          "height": 314
        },
        "id": "wHUSu92-0q8-",
        "outputId": "36359b00-4915-422f-c4f7-16b3416220ba"
      },
      "outputs": [
        {
          "name": "stdout",
          "output_type": "stream",
          "text": [
            "Final training loss: 0.7095267631949336\n",
            "Final Validation loss: 0.6481150732590601\n"
          ]
        },
        {
          "data": {
            "image/png": "[encoded data removed]",
            "text/plain": [
              "<Figure size 432x288 with 1 Axes>"
            ]
          },
          "metadata": {
            "needs_background": "light"
          },
          "output_type": "display_data"
        }
      ],
      "source": [
        "model = None\n",
        "# Choose feature\n",
        "wineFeaturesSimple = wineFeatures['alcohol']\n",
        "# Define model\n",
        "model = keras.Sequential()\n",
        "model.add(keras.layers.Dense(units=1, activation='linear', input_dim=1))\n",
        "# Specify the optimizer using the TF API to specify the learning rate\n",
        "model.compile(optimizer=tf.optimizers.Adam(learning_rate=0.01),\n",
        "              loss='mse')\n",
        "# Train the model!\n",
        "trainHistory = model.fit(wineFeaturesSimple,\n",
        "                         wineLabels,\n",
        "                         epochs=50,\n",
        "                         batch_size= 100, # set batch size here\n",
        "                         validation_split=0.2,\n",
        "                         verbose=0)\n",
        "# Plot\n",
        "showRegressionResults(trainHistory)"
      ]
    },
    {
      "cell_type": "markdown",
      "metadata": {
        "id": "nWgwvf4qODQE"
      },
      "source": [
        "## Hint"
      ]
    },
    {
      "cell_type": "markdown",
      "metadata": {
        "id": "hzYID6wZ3Cff"
      },
      "source": [
        "The loss decreases but very slowly. Possible fixes are:\n",
        "\n",
        "* Increase number of epochs.\n",
        "* Increase learning rate.\n",
        "* Decrease batch size. A lower batch size can result in larger decrease in loss per epoch, under the assumption that the smaller batches stay representative of the overall data distribution.\n",
        "\n",
        "Play with these three parameters in the code above to decrease the loss."
      ]
    },
    {
      "cell_type": "markdown",
      "metadata": {
        "id": "w8qvAbVIsL4w"
      },
      "source": [
        "## Solution"
      ]
    },
    {
      "cell_type": "markdown",
      "metadata": {
        "id": "gx8cQD8VsZtI"
      },
      "source": [
        "Run the following code cell to train the model using a reduced batch size of 100. Reducing the batch size leads to a greater decrease in loss per epoch. The minimum achievable loss is about 0.64. This is a significant increase over our baseline of 0.75."
      ]
    },
    {
      "cell_type": "code",
      "execution_count": 21,
      "metadata": {
        "colab": {
          "base_uri": "https://localhost:8080/",
          "height": 314
        },
        "id": "IDNZcb2cb_Tp",
        "outputId": "3ae595fc-d1a3-448d-9643-e649f6539aaf"
      },
      "outputs": [
        {
          "name": "stdout",
          "output_type": "stream",
          "text": [
            "Final training loss: 0.6809901511506299\n",
            "Final Validation loss: 0.6257625107581799\n"
          ]
        },
        {
          "data": {
            "image/png": "[encoded data removed]",
            "text/plain": [
              "<Figure size 432x288 with 1 Axes>"
            ]
          },
          "metadata": {
            "needs_background": "light"
          },
          "output_type": "display_data"
        }
      ],
      "source": [
        "model = None\n",
        "# Choose feature\n",
        "wineFeaturesSimple = wineFeatures['alcohol']\n",
        "# Define model\n",
        "model = keras.Sequential()\n",
        "model.add(keras.layers.Dense(units=1, activation='linear', input_dim=1))\n",
        "# Specify the optimizer using the TF API to specify the learning rate\n",
        "model.compile(optimizer=tf.optimizers.Adam(learning_rate=0.01),\n",
        "              loss='mse')\n",
        "# Train the model!\n",
        "trainHistory = model.fit(wineFeaturesSimple,\n",
        "                         wineLabels,\n",
        "                         epochs=20,\n",
        "                         batch_size=100, # set batch size here\n",
        "                         validation_split=0.2,\n",
        "                         verbose=0)\n",
        "# Plot\n",
        "showRegressionResults(trainHistory)"
      ]
    },
    {
      "cell_type": "markdown",
      "metadata": {
        "id": "pkXqclbwANES"
      },
      "source": [
        "# Add Feature to Linear Model\n",
        "\n",
        "Try adding a feature to the linear model. Since you need to combine the two features into one prediction for regression, you'll also need to add a second layer. Modify the code below to implement the following changes:\n",
        "\n",
        "1. Add `'volatile acidity'` to the features in `wineFeaturesSimple`.\n",
        "1. Add a second linear layer with 1 unit.\n",
        "1. Experiment with learning rate, epochs, and batch_size to try to reduce loss.\n",
        "\n",
        "What happens to your loss?"
      ]
    },
    {
      "cell_type": "code",
      "execution_count": 30,
      "metadata": {
        "colab": {
          "base_uri": "https://localhost:8080/",
          "height": 314
        },
        "id": "9l2vVIiz-06P",
        "outputId": "f7b75de2-89ad-412a-e2ed-932747ae9d06"
      },
      "outputs": [
        {
          "name": "stdout",
          "output_type": "stream",
          "text": [
            "Final training loss: 0.6531214030724386\n",
            "Final Validation loss: 0.5994833524410541\n"
          ]
        },
        {
          "data": {
            "image/png": "[encoded data removed]",
            "text/plain": [
              "<Figure size 432x288 with 1 Axes>"
            ]
          },
          "metadata": {
            "needs_background": "light"
          },
          "output_type": "display_data"
        }
      ],
      "source": [
        "model = None\n",
        "# Select features\n",
        "wineFeaturesSimple = wineFeatures[['alcohol', 'volatile acidity']] # add second feature\n",
        "# Define model\n",
        "model = keras.Sequential()\n",
        "model.add(keras.layers.Dense(wineFeaturesSimple.shape[1],\n",
        "                             input_dim=wineFeaturesSimple.shape[1],\n",
        "                             activation='linear'))\n",
        "model.add(keras.layers.Dense(1, activation='linear')) # add second layer\n",
        "# Compile\n",
        "model.compile(optimizer=tf.optimizers.Adam(learning_rate=0.01), loss='mse')\n",
        "# Train\n",
        "trainHistory = model.fit(wineFeaturesSimple,\n",
        "                         wineLabels,\n",
        "                         epochs=20,\n",
        "                         batch_size=100,\n",
        "                         validation_split=0.2,\n",
        "                         verbose=0)\n",
        "# Plot results\n",
        "showRegressionResults(trainHistory)"
      ]
    },
    {
      "cell_type": "markdown",
      "metadata": {
        "id": "_prjsbFc71O8"
      },
      "source": [
        "## Solution"
      ]
    },
    {
      "cell_type": "markdown",
      "metadata": {
        "id": "895HsCHl7-Qk"
      },
      "source": [
        "Run the following code to add the second feature and the second layer. The training loss is about 0.59, a small decrease from the previous loss of 0.64."
      ]
    },
    {
      "cell_type": "code",
      "execution_count": 31,
      "metadata": {
        "colab": {
          "base_uri": "https://localhost:8080/",
          "height": 314
        },
        "id": "Ai06p1DEbadf",
        "outputId": "1e76f226-16e8-4e1a-c389-4568e5ca95bb"
      },
      "outputs": [
        {
          "name": "stdout",
          "output_type": "stream",
          "text": [
            "Final training loss: 0.6217429693763201\n",
            "Final Validation loss: 0.5788564750781426\n"
          ]
        },
        {
          "data": {
            "image/png": "[encoded data removed]",
            "text/plain": [
              "<Figure size 432x288 with 1 Axes>"
            ]
          },
          "metadata": {
            "needs_background": "light"
          },
          "output_type": "display_data"
        }
      ],
      "source": [
        "model = None\n",
        "# Select features\n",
        "wineFeaturesSimple = wineFeatures[['alcohol', 'volatile acidity']] # add second feature\n",
        "# Define model\n",
        "model = keras.Sequential()\n",
        "model.add(keras.layers.Dense(wineFeaturesSimple.shape[1],\n",
        "                             input_dim=wineFeaturesSimple.shape[1],\n",
        "                             activation='linear'))\n",
        "model.add(keras.layers.Dense(1, activation='linear')) # add second layer\n",
        "# Compile\n",
        "model.compile(optimizer=tf.optimizers.Adam(learning_rate=0.01), loss='mse')\n",
        "# Train\n",
        "trainHistory = model.fit(wineFeaturesSimple,\n",
        "                         wineLabels,\n",
        "                         epochs=20,\n",
        "                         batch_size=100,\n",
        "                         validation_split=0.2,\n",
        "                         verbose=0)\n",
        "# Plot results\n",
        "showRegressionResults(trainHistory)"
      ]
    },
    {
      "cell_type": "markdown",
      "metadata": {
        "id": "AvY20_w6Awz7"
      },
      "source": [
        "# Use a Nonlinear Model\n",
        "\n",
        "Let's try a nonlinear model. Modify the code below to make the following changes:\n",
        "\n",
        "1. Change the first layer to use `relu`. (Output layer stays linear since this is a regression problem.)\n",
        "1. As usual, specify the learning rate, epochs, and batch_size.\n",
        "\n",
        "Run the cell. Does the loss increase, decrease, or stay the same?"
      ]
    },
    {
      "cell_type": "code",
      "execution_count": 35,
      "metadata": {
        "colab": {
          "base_uri": "https://localhost:8080/",
          "height": 314
        },
        "id": "YyH3Y_ycAv2x",
        "outputId": "5d30d0e7-2e9f-452a-ce04-f066df52761b"
      },
      "outputs": [
        {
          "name": "stdout",
          "output_type": "stream",
          "text": [
            "Final training loss: 0.6217429693763201\n",
            "Final Validation loss: 0.5788564750781426\n"
          ]
        },
        {
          "data": {
            "image/png": "[encoded data removed]",
            "text/plain": [
              "<Figure size 432x288 with 1 Axes>"
            ]
          },
          "metadata": {
            "needs_background": "light"
          },
          "output_type": "display_data"
        }
      ],
      "source": [
        "model = None\n",
        "# Define\n",
        "model = keras.Sequential()\n",
        "model.add(keras.layers.Dense(wineFeaturesSimple.shape[1],\n",
        "                             input_dim=wineFeaturesSimple.shape[1],\n",
        "                             activation='relu'))\n",
        "model.add(keras.layers.Dense(1, activation='linear'))\n",
        "# Compile\n",
        "model.compile(optimizer=tf.optimizers.Adam(), loss='mse')\n",
        "# Fit\n",
        "model.fit(wineFeaturesSimple,\n",
        "          wineLabels,\n",
        "          epochs=20,\n",
        "          batch_size=100,\n",
        "          validation_split=0.2,\n",
        "          verbose=0)\n",
        "# Plot results\n",
        "showRegressionResults(trainHistory)"
      ]
    },
    {
      "cell_type": "markdown",
      "metadata": {
        "id": "SDLggOvfqFbe"
      },
      "source": [
        "## Solution"
      ]
    },
    {
      "cell_type": "markdown",
      "metadata": {
        "id": "sl8Ft3FrqGjl"
      },
      "source": [
        "Run the following cell to use a `relu` activation in your first hidden layer. Your loss stays about the same, perhaps declining negligibly to 0.58."
      ]
    },
    {
      "cell_type": "code",
      "execution_count": null,
      "metadata": {
        "id": "HgsUJNaTdjDb"
      },
      "outputs": [],
      "source": [
        "model = None\n",
        "# Define\n",
        "model = keras.Sequential()\n",
        "model.add(keras.layers.Dense(wineFeaturesSimple.shape[1],\n",
        "                             input_dim=wineFeaturesSimple.shape[1],\n",
        "                             activation='relu'))\n",
        "model.add(keras.layers.Dense(1, activation='linear'))\n",
        "# Compile\n",
        "model.compile(optimizer=tf.optimizers.Adam(), loss='mse')\n",
        "# Fit\n",
        "model.fit(wineFeaturesSimple,\n",
        "          wineLabels,\n",
        "          epochs=20,\n",
        "          batch_size=100,\n",
        "          validation_split=0.2,\n",
        "          verbose=0)\n",
        "# Plot results\n",
        "showRegressionResults(trainHistory)"
      ]
    },
    {
      "cell_type": "markdown",
      "metadata": {
        "id": "Ef5AXAcjBoHb"
      },
      "source": [
        "# Optimize Your Model\n",
        "\n",
        "We have two features with one hidden layer but didn't see an improvement. At this point, it's tempting to use all your features with a high-capacity network. However, you must resist the temptation. Instead, follow the guidance in [Model Optimization](https://developers.google.com/machine-learning/testing-debugging/common/optimization) to improve model performance. For a hint and for a discussion, see the following text sections."
      ]
    },
    {
      "cell_type": "code",
      "execution_count": 38,
      "metadata": {
        "colab": {
          "base_uri": "https://localhost:8080/",
          "height": 314
        },
        "id": "y07BO1feBnT0",
        "outputId": "252cc16e-dfb8-45e2-cd98-43e9db9d3e43"
      },
      "outputs": [
        {
          "name": "stdout",
          "output_type": "stream",
          "text": [
            "Final training loss: 0.6917073906488732\n",
            "Final Validation loss: 0.6431412926087012\n"
          ]
        },
        {
          "data": {
            "image/png": "[encoded data removed]",
            "text/plain": [
              "<Figure size 432x288 with 1 Axes>"
            ]
          },
          "metadata": {
            "needs_background": "light"
          },
          "output_type": "display_data"
        }
      ],
      "source": [
        "# Choose features\n",
        "wineFeaturesSimple = wineFeatures[['alcohol', 'volatile acidity']] # add features\n",
        "# Define\n",
        "model = None\n",
        "model = keras.Sequential()\n",
        "model.add(keras.layers.Dense(wineFeaturesSimple.shape[1],\n",
        "                             activation='relu',\n",
        "                             input_dim=wineFeaturesSimple.shape[1]))\n",
        "# Add more layers here\n",
        "model.add(keras.layers.Dense(1,activation='linear'))\n",
        "# Compile\n",
        "model.compile(optimizer=tf.optimizers.Adam(), loss='mse')\n",
        "# Train\n",
        "trainHistory = model.fit(wineFeaturesSimple,\n",
        "                         wineLabels,\n",
        "                         epochs=20,\n",
        "                         batch_size=100,\n",
        "                         validation_split=0.2,\n",
        "                         verbose=0)\n",
        "# Plot results\n",
        "showRegressionResults(trainHistory)"
      ]
    },
    {
      "cell_type": "markdown",
      "metadata": {
        "id": "syvONtOvrkBV"
      },
      "source": [
        "## Hint"
      ]
    },
    {
      "cell_type": "markdown",
      "metadata": {
        "id": "cy-trUPfrk9X"
      },
      "source": [
        "You can try to reduce loss by adding features, adding layers, or playing with the hyperparameters. Before adding more features, check the correlation matrix. Don't expect your loss to decrease by much. Sadly, that is a common experience in machine learning!"
      ]
    },
    {
      "cell_type": "markdown",
      "metadata": {
        "id": "Nm1xp9DjCejl"
      },
      "source": [
        "## Solution"
      ]
    },
    {
      "cell_type": "markdown",
      "metadata": {
        "id": "H_URHTCL9QiX"
      },
      "source": [
        "Run the following code to:\n",
        "\n",
        "* Add the features chlorides and density.\n",
        "* Set training epochs to 100.\n",
        "* Set batch size to 100.\n",
        "\n",
        "Your loss reduces to about 0.56. That's a minor improvement over the previous loss of 0.58. It seems that adding more features or capacity isn't improving your model by much. Perhaps your model has a bug? In the next section, you will run a sanity check on your model."
      ]
    },
    {
      "cell_type": "code",
      "execution_count": 39,
      "metadata": {
        "colab": {
          "base_uri": "https://localhost:8080/",
          "height": 314
        },
        "id": "E87kEZADeJFT",
        "outputId": "344b64ad-d037-4271-bb5d-fd6b9e764830"
      },
      "outputs": [
        {
          "name": "stdout",
          "output_type": "stream",
          "text": [
            "Final training loss: 0.5732354443073732\n",
            "Final Validation loss: 0.5321491246040051\n"
          ]
        },
        {
          "data": {
            "image/png": "[encoded data removed]",
            "text/plain": [
              "<Figure size 432x288 with 1 Axes>"
            ]
          },
          "metadata": {
            "needs_background": "light"
          },
          "output_type": "display_data"
        }
      ],
      "source": [
        "# Choose features\n",
        "wineFeaturesSimple = wineFeatures[['alcohol','volatile acidity','chlorides','density']]\n",
        "# Define\n",
        "model = None\n",
        "model = keras.Sequential()\n",
        "model.add(keras.layers.Dense(wineFeaturesSimple.shape[1],\n",
        "                             activation='relu',\n",
        "                             input_dim=wineFeaturesSimple.shape[1]))\n",
        "# Add more layers here\n",
        "model.add(keras.layers.Dense(1,activation='linear'))\n",
        "# Compile\n",
        "model.compile(optimizer=tf.optimizers.Adam(), loss='mse')\n",
        "# Train\n",
        "trainHistory = model.fit(wineFeaturesSimple,\n",
        "                         wineLabels,\n",
        "                         epochs=200,\n",
        "                         batch_size=100,\n",
        "                         validation_split=0.2,\n",
        "                         verbose=0)\n",
        "# Plot results\n",
        "showRegressionResults(trainHistory)"
      ]
    },
    {
      "cell_type": "markdown",
      "metadata": {
        "id": "gy6CkyIZSMN3"
      },
      "source": [
        "# Check for Implementation Bugs using Reduced Dataset\n",
        "\n",
        "Your loss isn't decreasing by much. Perhaps your model has an implementation bug. From the [Model Debugging](https://developers.google.com/machine-learning/testing-debugging/common/model-errors) guidelines, a quick test for implementation bugs is to obtain a low loss on a reduced dataset of, say, 10 examples. Remember, passing this test does not validate your modeling approach but only checks for basic implementation bugs. In your ML problem, if your model passes this test, then continue debugging your model to train on your full dataset.\n",
        "\n",
        "In the following code, experiment with the learning rate, batch size, and number of epochs. Can you reach a low loss? Choose hyperparameter values that let you iterate quickly."
      ]
    },
    {
      "cell_type": "code",
      "execution_count": 41,
      "metadata": {
        "colab": {
          "base_uri": "https://localhost:8080/",
          "height": 302
        },
        "id": "A0WLrVA7SUJe",
        "outputId": "226783a7-9154-4bf7-c7cc-5c0a2811e295"
      },
      "outputs": [
        {
          "name": "stdout",
          "output_type": "stream",
          "text": [
            "Final training loss: 1.8872096538543701\n"
          ]
        },
        {
          "data": {
            "text/plain": [
              "[<matplotlib.lines.Line2D at 0x7fad26ffa090>]"
            ]
          },
          "execution_count": 41,
          "metadata": {},
          "output_type": "execute_result"
        },
        {
          "data": {
            "image/png": "[encoded data removed]",
            "text/plain": [
              "<Figure size 432x288 with 1 Axes>"
            ]
          },
          "metadata": {
            "needs_background": "light"
          },
          "output_type": "display_data"
        }
      ],
      "source": [
        "# Choose 10 examples\n",
        "wineFeaturesSmall = wineFeatures[0:10]\n",
        "wineLabelsSmall = wineLabels[0:10]\n",
        "# Define model\n",
        "model = None\n",
        "model = keras.Sequential()\n",
        "model.add(keras.layers.Dense(wineFeaturesSmall.shape[1],\n",
        "                             activation='relu',\n",
        "                             input_dim=wineFeaturesSmall.shape[1]))\n",
        "model.add(keras.layers.Dense(wineFeaturesSmall.shape[1], activation='relu'))\n",
        "model.add(keras.layers.Dense(1, activation='linear'))\n",
        "# Compile\n",
        "model.compile(optimizer=tf.optimizers.Adam(), loss='mse') # set LR\n",
        "# Train\n",
        "trainHistory = model.fit(wineFeaturesSmall,\n",
        "                        wineLabelsSmall,\n",
        "                        epochs=200,\n",
        "                        batch_size=10,\n",
        "                        verbose=0)\n",
        "# Plot results\n",
        "print(\"Final training loss: \" + str(trainHistory.history['loss'][-1]))\n",
        "plt.plot(trainHistory.history['loss'])"
      ]
    },
    {
      "cell_type": "markdown",
      "metadata": {
        "id": "uoUVsCIsYBVC"
      },
      "source": [
        "## Solution"
      ]
    },
    {
      "cell_type": "markdown",
      "metadata": {
        "id": "Z5TWFqrZ-oyp"
      },
      "source": [
        "Run the following code cell to train the model using these hyperparameter values:\n",
        "\n",
        "* learning rate = 0.01\n",
        "* epochs = 200\n",
        "* batch size = 10\n",
        "\n",
        "You get a low loss on your reduced dataset. This result means your model is probably solid and your previous results are as good as they'll get."
      ]
    },
    {
      "cell_type": "code",
      "execution_count": null,
      "metadata": {
        "id": "xzIcE6j_fQNf"
      },
      "outputs": [],
      "source": [
        "# Choose 10 examples\n",
        "wineFeaturesSmall = wineFeatures[0:10]\n",
        "wineLabelsSmall = wineLabels[0:10]\n",
        "# Define model\n",
        "model = None\n",
        "model = keras.Sequential()\n",
        "model.add(keras.layers.Dense(wineFeaturesSmall.shape[1], activation='relu',\n",
        "                             input_dim=wineFeaturesSmall.shape[1]))\n",
        "model.add(keras.layers.Dense(wineFeaturesSmall.shape[1], activation='relu'))\n",
        "model.add(keras.layers.Dense(1, activation='linear'))\n",
        "# Compile\n",
        "model.compile(optimizer=tf.optimizers.Adam(0.01), loss='mse') # set LR\n",
        "# Train\n",
        "trainHistory = model.fit(wineFeaturesSmall,\n",
        "                        wineLabelsSmall,\n",
        "                        epochs=200,\n",
        "                        batch_size=10,\n",
        "                        verbose=0)\n",
        "# Plot results\n",
        "print(\"Final training loss: \" + str(trainHistory.history['loss'][-1]))\n",
        "plt.plot(trainHistory.history['loss'])"
      ]
    },
    {
      "cell_type": "markdown",
      "metadata": {
        "id": "LK-CuHasqxt6"
      },
      "source": [
        "# Trying a Very Complex Model"
      ]
    },
    {
      "cell_type": "markdown",
      "metadata": {
        "id": "BLiaqT8AKZ8o"
      },
      "source": [
        "Let's go all in and use a very complex model with all the features. For science! And to satisfy ourselves that a simple model is indeed better. Let's use all 11 features with 3 fully-connected relu layers and a final linear layer. The next cell takes a while to run. Skip to the results in the cell after if you like."
      ]
    },
    {
      "cell_type": "code",
      "execution_count": 42,
      "metadata": {
        "colab": {
          "base_uri": "https://localhost:8080/",
          "height": 1000
        },
        "id": "I5D1IyEZq1Ej",
        "outputId": "7c7db9cb-bcaf-4f72-ab46-bd1bebb40bbe"
      },
      "outputs": [
        {
          "name": "stdout",
          "output_type": "stream",
          "text": [
            "Train on 5197 samples, validate on 1300 samples\n",
            "Epoch 1/100\n",
            "5197/5197 [==============================] - 0s 82us/sample - loss: 47.1116 - val_loss: 10.0686\n",
            "Epoch 2/100\n",
            "5197/5197 [==============================] - 0s 22us/sample - loss: 8.8171 - val_loss: 7.8176\n",
            "Epoch 3/100\n",
            "5197/5197 [==============================] - 0s 21us/sample - loss: 6.0159 - val_loss: 3.5455\n",
            "Epoch 4/100\n",
            "5197/5197 [==============================] - 0s 21us/sample - loss: 1.9490 - val_loss: 1.3549\n",
            "Epoch 5/100\n",
            "5197/5197 [==============================] - 0s 21us/sample - loss: 1.0956 - val_loss: 1.0071\n",
            "Epoch 6/100\n",
            "5197/5197 [==============================] - 0s 20us/sample - loss: 0.9080 - val_loss: 0.9113\n",
            "Epoch 7/100\n",
            "5197/5197 [==============================] - 0s 19us/sample - loss: 0.8654 - val_loss: 0.8839\n",
            "Epoch 8/100\n",
            "5197/5197 [==============================] - 0s 21us/sample - loss: 0.8446 - val_loss: 0.8580\n",
            "Epoch 9/100\n",
            "5197/5197 [==============================] - 0s 23us/sample - loss: 0.8224 - val_loss: 0.8431\n",
            "Epoch 10/100\n",
            "5197/5197 [==============================] - 0s 21us/sample - loss: 0.8079 - val_loss: 0.8493\n",
            "Epoch 11/100\n",
            "5197/5197 [==============================] - 0s 22us/sample - loss: 0.7913 - val_loss: 0.8056\n",
            "Epoch 12/100\n",
            "5197/5197 [==============================] - 0s 20us/sample - loss: 0.7760 - val_loss: 0.7908\n",
            "Epoch 13/100\n",
            "5197/5197 [==============================] - 0s 20us/sample - loss: 0.7620 - val_loss: 0.7770\n",
            "Epoch 14/100\n",
            "5197/5197 [==============================] - 0s 23us/sample - loss: 0.7506 - val_loss: 0.7741\n",
            "Epoch 15/100\n",
            "5197/5197 [==============================] - 0s 22us/sample - loss: 0.7384 - val_loss: 0.7462\n",
            "Epoch 16/100\n",
            "5197/5197 [==============================] - 0s 21us/sample - loss: 0.7363 - val_loss: 0.7376\n",
            "Epoch 17/100\n",
            "5197/5197 [==============================] - 0s 19us/sample - loss: 0.7182 - val_loss: 0.7245\n",
            "Epoch 18/100\n",
            "5197/5197 [==============================] - 0s 23us/sample - loss: 0.7058 - val_loss: 0.7118\n",
            "Epoch 19/100\n",
            "5197/5197 [==============================] - 0s 20us/sample - loss: 0.6947 - val_loss: 0.6927\n",
            "Epoch 20/100\n",
            "5197/5197 [==============================] - 0s 21us/sample - loss: 0.6885 - val_loss: 0.6930\n",
            "Epoch 21/100\n",
            "5197/5197 [==============================] - 0s 20us/sample - loss: 0.6834 - val_loss: 0.6791\n",
            "Epoch 22/100\n",
            "5197/5197 [==============================] - 0s 21us/sample - loss: 0.6634 - val_loss: 0.6861\n",
            "Epoch 23/100\n",
            "5197/5197 [==============================] - 0s 21us/sample - loss: 0.6633 - val_loss: 0.6570\n",
            "Epoch 24/100\n",
            "5197/5197 [==============================] - 0s 22us/sample - loss: 0.6540 - val_loss: 0.6509\n",
            "Epoch 25/100\n",
            "5197/5197 [==============================] - 0s 24us/sample - loss: 0.6424 - val_loss: 0.6413\n",
            "Epoch 26/100\n",
            "5197/5197 [==============================] - 0s 19us/sample - loss: 0.6381 - val_loss: 0.6359\n",
            "Epoch 27/100\n",
            "5197/5197 [==============================] - 0s 25us/sample - loss: 0.6307 - val_loss: 0.6239\n",
            "Epoch 28/100\n",
            "5197/5197 [==============================] - 0s 20us/sample - loss: 0.6252 - val_loss: 0.6270\n",
            "Epoch 29/100\n",
            "5197/5197 [==============================] - 0s 20us/sample - loss: 0.6236 - val_loss: 0.6158\n",
            "Epoch 30/100\n",
            "5197/5197 [==============================] - 0s 21us/sample - loss: 0.6202 - val_loss: 0.6089\n",
            "Epoch 31/100\n",
            "5197/5197 [==============================] - 0s 20us/sample - loss: 0.6097 - val_loss: 0.6096\n",
            "Epoch 32/100\n",
            "5197/5197 [==============================] - 0s 21us/sample - loss: 0.6054 - val_loss: 0.6046\n",
            "Epoch 33/100\n",
            "5197/5197 [==============================] - 0s 21us/sample - loss: 0.6089 - val_loss: 0.5982\n",
            "Epoch 34/100\n",
            "5197/5197 [==============================] - 0s 22us/sample - loss: 0.6036 - val_loss: 0.5988\n",
            "Epoch 35/100\n",
            "5197/5197 [==============================] - 0s 20us/sample - loss: 0.6018 - val_loss: 0.5914\n",
            "Epoch 36/100\n",
            "5197/5197 [==============================] - 0s 23us/sample - loss: 0.5953 - val_loss: 0.5915\n",
            "Epoch 37/100\n",
            "5197/5197 [==============================] - 0s 20us/sample - loss: 0.5937 - val_loss: 0.5807\n",
            "Epoch 38/100\n",
            "5197/5197 [==============================] - 0s 22us/sample - loss: 0.5923 - val_loss: 0.5792\n",
            "Epoch 39/100\n",
            "5197/5197 [==============================] - 0s 22us/sample - loss: 0.5914 - val_loss: 0.5810\n",
            "Epoch 40/100\n",
            "5197/5197 [==============================] - 0s 20us/sample - loss: 0.5865 - val_loss: 0.5802\n",
            "Epoch 41/100\n",
            "5197/5197 [==============================] - 0s 23us/sample - loss: 0.5864 - val_loss: 0.5718\n",
            "Epoch 42/100\n",
            "5197/5197 [==============================] - 0s 21us/sample - loss: 0.5874 - val_loss: 0.5696\n",
            "Epoch 43/100\n",
            "5197/5197 [==============================] - 0s 19us/sample - loss: 0.5817 - val_loss: 0.5693\n",
            "Epoch 44/100\n",
            "5197/5197 [==============================] - 0s 21us/sample - loss: 0.5772 - val_loss: 0.5867\n",
            "Epoch 45/100\n",
            "5197/5197 [==============================] - 0s 24us/sample - loss: 0.5807 - val_loss: 0.5640\n",
            "Epoch 46/100\n",
            "5197/5197 [==============================] - 0s 23us/sample - loss: 0.5804 - val_loss: 0.5933\n",
            "Epoch 47/100\n",
            "5197/5197 [==============================] - 0s 24us/sample - loss: 0.5820 - val_loss: 0.5640\n",
            "Epoch 48/100\n",
            "5197/5197 [==============================] - 0s 20us/sample - loss: 0.5717 - val_loss: 0.5705\n",
            "Epoch 49/100\n",
            "5197/5197 [==============================] - 0s 22us/sample - loss: 0.5781 - val_loss: 0.5631\n",
            "Epoch 50/100\n",
            "5197/5197 [==============================] - 0s 21us/sample - loss: 0.5782 - val_loss: 0.5648\n",
            "Epoch 51/100\n",
            "5197/5197 [==============================] - 0s 21us/sample - loss: 0.5721 - val_loss: 0.5689\n",
            "Epoch 52/100\n",
            "5197/5197 [==============================] - 0s 19us/sample - loss: 0.5733 - val_loss: 0.5556\n",
            "Epoch 53/100\n",
            "5197/5197 [==============================] - 0s 20us/sample - loss: 0.5704 - val_loss: 0.5870\n",
            "Epoch 54/100\n",
            "5197/5197 [==============================] - 0s 22us/sample - loss: 0.5659 - val_loss: 0.5529\n",
            "Epoch 55/100\n",
            "5197/5197 [==============================] - 0s 23us/sample - loss: 0.5662 - val_loss: 0.5509\n",
            "Epoch 56/100\n",
            "5197/5197 [==============================] - 0s 23us/sample - loss: 0.5671 - val_loss: 0.5721\n",
            "Epoch 57/100\n",
            "5197/5197 [==============================] - 0s 21us/sample - loss: 0.5689 - val_loss: 0.5494\n",
            "Epoch 58/100\n",
            "5197/5197 [==============================] - 0s 22us/sample - loss: 0.5683 - val_loss: 0.5549\n",
            "Epoch 59/100\n",
            "5197/5197 [==============================] - 0s 23us/sample - loss: 0.5633 - val_loss: 0.5925\n",
            "Epoch 60/100\n",
            "5197/5197 [==============================] - 0s 20us/sample - loss: 0.5682 - val_loss: 0.5582\n",
            "Epoch 61/100\n",
            "5197/5197 [==============================] - 0s 21us/sample - loss: 0.5624 - val_loss: 0.5488\n",
            "Epoch 62/100\n",
            "5197/5197 [==============================] - 0s 22us/sample - loss: 0.5635 - val_loss: 0.5504\n",
            "Epoch 63/100\n",
            "5197/5197 [==============================] - 0s 22us/sample - loss: 0.5601 - val_loss: 0.5468\n",
            "Epoch 64/100\n",
            "5197/5197 [==============================] - 0s 21us/sample - loss: 0.5678 - val_loss: 0.5579\n",
            "Epoch 65/100\n",
            "5197/5197 [==============================] - 0s 20us/sample - loss: 0.5625 - val_loss: 0.5699\n",
            "Epoch 66/100\n",
            "5197/5197 [==============================] - 0s 20us/sample - loss: 0.5778 - val_loss: 0.5441\n",
            "Epoch 67/100\n",
            "5197/5197 [==============================] - 0s 21us/sample - loss: 0.5636 - val_loss: 0.5645\n",
            "Epoch 68/100\n",
            "5197/5197 [==============================] - 0s 21us/sample - loss: 0.5589 - val_loss: 0.5706\n",
            "Epoch 69/100\n",
            "5197/5197 [==============================] - 0s 21us/sample - loss: 0.5593 - val_loss: 0.5479\n",
            "Epoch 70/100\n",
            "5197/5197 [==============================] - 0s 20us/sample - loss: 0.5562 - val_loss: 0.5475\n",
            "Epoch 71/100\n",
            "5197/5197 [==============================] - 0s 21us/sample - loss: 0.5666 - val_loss: 0.5588\n",
            "Epoch 72/100\n",
            "5197/5197 [==============================] - 0s 21us/sample - loss: 0.5625 - val_loss: 0.5423\n",
            "Epoch 73/100\n",
            "5197/5197 [==============================] - 0s 21us/sample - loss: 0.5573 - val_loss: 0.5361\n",
            "Epoch 74/100\n",
            "5197/5197 [==============================] - 0s 21us/sample - loss: 0.5617 - val_loss: 0.5379\n",
            "Epoch 75/100\n",
            "5197/5197 [==============================] - 0s 22us/sample - loss: 0.5535 - val_loss: 0.5412\n",
            "Epoch 76/100\n",
            "5197/5197 [==============================] - 0s 21us/sample - loss: 0.5543 - val_loss: 0.5457\n",
            "Epoch 77/100\n",
            "5197/5197 [==============================] - 0s 25us/sample - loss: 0.5555 - val_loss: 0.5390\n",
            "Epoch 78/100\n",
            "5197/5197 [==============================] - 0s 22us/sample - loss: 0.5523 - val_loss: 0.5404\n",
            "Epoch 79/100\n",
            "5197/5197 [==============================] - 0s 22us/sample - loss: 0.5507 - val_loss: 0.5385\n",
            "Epoch 80/100\n",
            "5197/5197 [==============================] - 0s 24us/sample - loss: 0.5562 - val_loss: 0.5601\n",
            "Epoch 81/100\n",
            "5197/5197 [==============================] - 0s 21us/sample - loss: 0.5633 - val_loss: 0.5339\n",
            "Epoch 82/100\n",
            "5197/5197 [==============================] - 0s 21us/sample - loss: 0.5555 - val_loss: 0.5335\n",
            "Epoch 83/100\n",
            "5197/5197 [==============================] - 0s 21us/sample - loss: 0.5483 - val_loss: 0.5320\n",
            "Epoch 84/100\n",
            "5197/5197 [==============================] - 0s 26us/sample - loss: 0.5608 - val_loss: 0.5862\n",
            "Epoch 85/100\n",
            "5197/5197 [==============================] - 0s 23us/sample - loss: 0.5502 - val_loss: 0.5345\n",
            "Epoch 86/100\n",
            "5197/5197 [==============================] - 0s 23us/sample - loss: 0.5486 - val_loss: 0.5304\n",
            "Epoch 87/100\n",
            "5197/5197 [==============================] - 0s 21us/sample - loss: 0.5537 - val_loss: 0.5496\n",
            "Epoch 88/100\n",
            "5197/5197 [==============================] - 0s 23us/sample - loss: 0.5518 - val_loss: 0.5362\n",
            "Epoch 89/100\n",
            "5197/5197 [==============================] - 0s 27us/sample - loss: 0.5501 - val_loss: 0.5443\n",
            "Epoch 90/100\n",
            "5197/5197 [==============================] - 0s 20us/sample - loss: 0.5515 - val_loss: 0.5265\n",
            "Epoch 91/100\n",
            "5197/5197 [==============================] - 0s 22us/sample - loss: 0.5614 - val_loss: 0.5640\n",
            "Epoch 92/100\n",
            "5197/5197 [==============================] - 0s 21us/sample - loss: 0.5559 - val_loss: 0.5743\n",
            "Epoch 93/100\n",
            "5197/5197 [==============================] - 0s 23us/sample - loss: 0.5495 - val_loss: 0.5551\n",
            "Epoch 94/100\n",
            "5197/5197 [==============================] - 0s 22us/sample - loss: 0.5578 - val_loss: 0.5264\n",
            "Epoch 95/100\n",
            "5197/5197 [==============================] - 0s 20us/sample - loss: 0.5427 - val_loss: 0.5281\n",
            "Epoch 96/100\n",
            "5197/5197 [==============================] - 0s 26us/sample - loss: 0.5466 - val_loss: 0.5278\n",
            "Epoch 97/100\n",
            "5197/5197 [==============================] - 0s 23us/sample - loss: 0.5436 - val_loss: 0.5311\n",
            "Epoch 98/100\n",
            "5197/5197 [==============================] - 0s 23us/sample - loss: 0.5485 - val_loss: 0.5328\n",
            "Epoch 99/100\n",
            "5197/5197 [==============================] - 0s 22us/sample - loss: 0.5524 - val_loss: 0.5467\n",
            "Epoch 100/100\n",
            "5197/5197 [==============================] - 0s 21us/sample - loss: 0.5450 - val_loss: 0.5275\n",
            "Final training loss: 0.5449926957605618\n",
            "Final Validation loss: 0.5274602702030768\n"
          ]
        },
        {
          "data": {
            "text/plain": [
              "(0.4, 1)"
            ]
          },
          "execution_count": 42,
          "metadata": {},
          "output_type": "execute_result"
        },
        {
          "data": {
            "image/png": "[encoded data removed]",
            "text/plain": [
              "<Figure size 432x288 with 1 Axes>"
            ]
          },
          "metadata": {
            "needs_background": "light"
          },
          "output_type": "display_data"
        }
      ],
      "source": [
        "model = None\n",
        "# Define\n",
        "model = keras.Sequential()\n",
        "model.add(keras.layers.Dense(wineFeatures.shape[1], activation='relu',\n",
        "                             input_dim=wineFeatures.shape[1]))\n",
        "model.add(keras.layers.Dense(wineFeatures.shape[1], activation='relu'))\n",
        "model.add(keras.layers.Dense(wineFeatures.shape[1], activation='relu'))\n",
        "model.add(keras.layers.Dense(1,activation='linear'))\n",
        "# Compile\n",
        "model.compile(optimizer=tf.optimizers.Adam(), loss='mse')\n",
        "# Train the model!\n",
        "trainHistory = model.fit(wineFeatures, wineLabels, epochs=100, batch_size=100,\n",
        "                         verbose=1, validation_split = 0.2)\n",
        "# Plot results\n",
        "showRegressionResults(trainHistory)\n",
        "plt.ylim(0.4,1)"
      ]
    },
    {
      "cell_type": "markdown",
      "metadata": {
        "id": "eClRDcGVudk2"
      },
      "source": [
        "## Results"
      ]
    },
    {
      "cell_type": "markdown",
      "metadata": {
        "id": "nkM7MT8XLEd6"
      },
      "source": [
        "If you train for long enough, the minimum achievable MSE is around 0.52, which is a decrease of 0.04 from the previous best loss of 0.56. This decrease probably isn't worth the performance and complexity cost of using all your features and a deeper network. However, that decision depends on the objectives you're optimizing for.\n",
        "\n",
        "If you train the model long enough, the validation loss actually starts increasing while training loss continues to decrease. This divergence in loss curves means your model is overfitting. The overfitting results from the closer fit that your very complex model can learn. Stick with the simpler model. You'll be happier and live longer!\n",
        "\n",
        "If you do want to optimize your loss, then play with the model to find the minimum achievable training loss before overfitting sets in. Try playing with the network parameters in the code cell above to achieve a loss of 0.51. But be warned—optimizing your loss could take a lot of trial and error.."
      ]
    },
    {
      "cell_type": "markdown",
      "metadata": {
        "id": "yT7i3BdqvzKO"
      },
      "source": [
        "# Conclusion\n",
        "\n",
        "This Colab demonstrated the following principles:\n",
        "\n",
        "* The most important step in machine learning is understanding your data.\n",
        "* The largest gains come from the initial features and network.\n",
        "* Returns diminish as you add features and complexity.\n",
        "* Incremental development provides confidence in model quality and allows benchmarking against previous results.\n",
        "* Reproducing previous results is extremely important. Hence, always use version control."
      ]
    }
  ],
  "metadata": {
    "colab": {
      "collapsed_sections": [
        "vrr7QBAu_oeC",
        "fko5u9Y3hiKW",
        "nWgwvf4qODQE",
        "w8qvAbVIsL4w",
        "_prjsbFc71O8",
        "SDLggOvfqFbe",
        "syvONtOvrkBV",
        "Nm1xp9DjCejl",
        "uoUVsCIsYBVC",
        "eClRDcGVudk2"
      ],
      "include_colab_link": true,
      "name": "7 Case Study: Debugging in Regression.ipynb",
      "provenance": []
    },
    "kernelspec": {
      "display_name": "Python 2",
      "name": "python2"
    }
  },
  "nbformat": 4,
  "nbformat_minor": 0
}
